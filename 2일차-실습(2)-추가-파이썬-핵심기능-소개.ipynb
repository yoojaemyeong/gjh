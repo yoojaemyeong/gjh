{
 "cells": [
  {
   "cell_type": "markdown",
   "id": "3f9d7c6b-35b9-42b2-8bd4-da4900885834",
   "metadata": {},
   "source": [
    "## Python : Decorator\n",
    "- 함수, 메서드, 클래스에 추가 기능을 부여하기 위해"
   ]
  },
  {
   "cell_type": "code",
   "execution_count": 3,
   "id": "d4c55f82-7d9d-43dd-ad60-b883917d5008",
   "metadata": {},
   "outputs": [
    {
     "name": "stdout",
     "output_type": "stream",
     "text": [
      "함수 완료!\n",
      "⏱️ slow_function 함수 실행 시간: 10.0009초\n"
     ]
    }
   ],
   "source": [
    "# 1. 실행 시간 측정 데코레이터\n",
    "import time\n",
    "\n",
    "def timer(func):\n",
    "    def wrapper(*args, **kwargs):\n",
    "        start = time.time()\n",
    "        result = func(*args, **kwargs)\n",
    "        end = time.time()\n",
    "        print(f\"⏱️ {func.__name__} 함수 실행 시간: {end - start:.4f}초\")\n",
    "        return result\n",
    "    return wrapper\n",
    "\n",
    "@timer\n",
    "def slow_function(t):\n",
    "    time.sleep(t)\n",
    "    print(\"함수 완료!\")\n",
    "\n",
    "slow_function(10)"
   ]
  },
  {
   "cell_type": "code",
   "execution_count": 4,
   "id": "42b2a6d5-ff38-44dd-bd14-e106c5d97527",
   "metadata": {},
   "outputs": [
    {
     "name": "stdout",
     "output_type": "stream",
     "text": [
      "🚫 접근 권한이 없습니다.\n",
      "✅ admin가 사용자 삭제 기능을 실행합니다.\n"
     ]
    }
   ],
   "source": [
    "# 2. 접근 제한 데코레이터(권한 체크)\n",
    "def require_admin(func):\n",
    "    def wrapper(user):\n",
    "        if user != 'admin':\n",
    "            print(\"🚫 접근 권한이 없습니다.\")\n",
    "            return\n",
    "        return func(user)\n",
    "    return wrapper\n",
    "\n",
    "@require_admin\n",
    "def delete_user(user):\n",
    "    print(f\"✅ {user}가 사용자 삭제 기능을 실행합니다.\")\n",
    "\n",
    "delete_user(\"guest\")  # 접근 거부\n",
    "delete_user(\"admin\")  # 실행됨\n"
   ]
  },
  {
   "cell_type": "code",
   "execution_count": 5,
   "id": "76be7ef3-908a-47ba-876b-a4724db63588",
   "metadata": {},
   "outputs": [
    {
     "name": "stdout",
     "output_type": "stream",
     "text": [
      "120\n",
      "📦 캐시 사용!\n",
      "120\n"
     ]
    }
   ],
   "source": [
    "# 3. 결과 캐싱 데코레이터(메모이제이션)\n",
    "# 메모이제이션(Memoization)은 함수의 실행 결과를 저장하여, 동일한 입력에 대해 재계산하는 대신 저장된 결과를 재사용하여 프로그램의 성능을 최적화하는 기법\n",
    "cache = {}\n",
    "\n",
    "def memoize(func):\n",
    "    def wrapper(n):\n",
    "        if n in cache:\n",
    "            print(\"📦 캐시 사용!\")\n",
    "            return cache[n]\n",
    "        result = func(n)\n",
    "        cache[n] = result\n",
    "        return result\n",
    "    return wrapper\n",
    "\n",
    "@memoize\n",
    "def factorial(n):\n",
    "    if n == 0:\n",
    "        return 1\n",
    "    return n * factorial(n - 1)\n",
    "\n",
    "print(factorial(5))\n",
    "print(factorial(5))  # 캐시 사용됨\n"
   ]
  },
  {
   "cell_type": "code",
   "execution_count": 6,
   "id": "31f468c5-d2d6-40f3-ac00-6f274936cd5c",
   "metadata": {},
   "outputs": [
    {
     "name": "stdout",
     "output_type": "stream",
     "text": [
      "📘 호출: add with args=(3, 5), kwargs={}\n"
     ]
    },
    {
     "data": {
      "text/plain": [
       "8"
      ]
     },
     "execution_count": 6,
     "metadata": {},
     "output_type": "execute_result"
    }
   ],
   "source": [
    "# 4. 로그 출력 데코레이터\n",
    "def logger(func):\n",
    "    def wrapper(*args, **kwargs):\n",
    "        print(f\"📘 호출: {func.__name__} with args={args}, kwargs={kwargs}\")\n",
    "        return func(*args, **kwargs)\n",
    "    return wrapper\n",
    "\n",
    "@logger\n",
    "def add(a, b):\n",
    "    return a + b\n",
    "\n",
    "add(3, 5)\n"
   ]
  },
  {
   "cell_type": "code",
   "execution_count": 7,
   "id": "3e3ece05-74ce-4c02-ab9b-bdabb825b9ab",
   "metadata": {},
   "outputs": [
    {
     "name": "stdout",
     "output_type": "stream",
     "text": [
      "<b><i>Hello!</i></b>\n"
     ]
    }
   ],
   "source": [
    "# 5. 여러 데코레이터 중첩 사용\n",
    "# 튜플 형태 *args : func(1,2,3) -> args = (1,2,3)\n",
    "# 딕셔너리 형태 **kwargs : func(a=10, b=20) -> kwargs = {'a':10, 'b':20}\n",
    "\n",
    "def bold(func):\n",
    "    def wrapper(*args, **kwargs):\n",
    "        return \"<b>\" + func(*args, **kwargs) + \"</b>\"\n",
    "    return wrapper\n",
    "\n",
    "def italic(func):\n",
    "    def wrapper(*args, **kwargs):\n",
    "        return \"<i>\" + func(*args, **kwargs) + \"</i>\"\n",
    "    return wrapper\n",
    "\n",
    "@bold\n",
    "@italic\n",
    "def greet():\n",
    "    return \"Hello!\"\n",
    "\n",
    "print(greet())  # <b><i>Hello!</i></b>"
   ]
  },
  {
   "cell_type": "markdown",
   "id": "fce3cef3-759c-4776-a20e-8dd355253840",
   "metadata": {},
   "source": [
    "## Python : 어노테이션( Annotation , 타입힌트) \n",
    "\n",
    "```python\n",
    "def 함수이름(매개변수: 타입) -> 반환타입:\n",
    "    return 반환값\n",
    "```"
   ]
  },
  {
   "cell_type": "code",
   "execution_count": null,
   "id": "1ec0fc25-1d3b-4e94-b30e-a8704ad2891c",
   "metadata": {},
   "outputs": [],
   "source": [
    "# 1. 함수 매개변수, 반환값 지정\n",
    "def add(x: int, y: int) -> int:\n",
    "    return x + y\n"
   ]
  },
  {
   "cell_type": "code",
   "execution_count": null,
   "id": "4d6c65cc-ae9b-4041-ae44-5626ee8178b9",
   "metadata": {},
   "outputs": [],
   "source": [
    "# 2. 변수에 타입 어노테이션 지정\n",
    "name: str = \"Alice\"\n",
    "age: int = 30\n",
    "is_active: bool = True\n"
   ]
  },
  {
   "cell_type": "code",
   "execution_count": 13,
   "id": "addad544-72b0-41af-9000-1f2709f5fe0b",
   "metadata": {},
   "outputs": [
    {
     "name": "stdout",
     "output_type": "stream",
     "text": [
      "get_scores : [90, 80, 70]\n",
      "get_user : {'name': '홍길동', 'city': '서울'}\n"
     ]
    }
   ],
   "source": [
    "# 3. 리스트, 딕셔너리 등에서 사용\n",
    "from typing import List, Dict\n",
    "\n",
    "def get_scores() -> List[int]:\n",
    "    return [90, 80, 70]\n",
    "\n",
    "def get_user() -> Dict[str, str]:\n",
    "    return {\"name\": \"홍길동\", \"city\": \"서울\"}\n",
    "\n",
    "print(f'get_scores : {get_scores()}')\n",
    "print(f'get_user : {get_user()}')\n"
   ]
  },
  {
   "cell_type": "code",
   "execution_count": 12,
   "id": "11db0602-a8c8-4697-a813-a7c03d4a602b",
   "metadata": {},
   "outputs": [
    {
     "name": "stdout",
     "output_type": "stream",
     "text": [
      "square(3): 9\n"
     ]
    }
   ],
   "source": [
    "# 4. Optional, Union 타입\n",
    "from typing import Optional, Union\n",
    "\n",
    "def greet(name: Optional[str] = None) -> str:\n",
    "    return f\"Hello, {name or 'guest'}\"\n",
    "\n",
    "def square(x: Union[int, float]) -> float:\n",
    "    return x * x\n",
    "\n",
    "greet()\n",
    "greet(\"Yoo\")\n",
    "print(f'square(3): {square(3)}')"
   ]
  },
  {
   "cell_type": "code",
   "execution_count": 14,
   "id": "c958a8be-fd0a-4dc7-933a-b7f8591b4b27",
   "metadata": {},
   "outputs": [
    {
     "name": "stdout",
     "output_type": "stream",
     "text": [
      "8\n"
     ]
    }
   ],
   "source": [
    "# 5. 함수를 인자로 받는 함수 : Callable\n",
    "from typing import Callable\n",
    "\n",
    "def operate(x: int, y: int, func: Callable[[int, int], int]) -> int:\n",
    "    return func(x, y)\n",
    "\n",
    "print(operate(5, 3, lambda a, b: a + b))  # 8 , Callable[[int,int], int]인자 2개(int, int)를 받고 int를 반환하는 함수 타입\n"
   ]
  },
  {
   "cell_type": "markdown",
   "id": "728cde2e-d737-4856-bbf2-46fb3c8b42a2",
   "metadata": {},
   "source": [
    "## 로깅(Logging): 코드 실행 중 발생하는 정보를 파일이나 콘솔에 남겨 디버깅, 오류 추적, 이벤트 기록 등에 사용"
   ]
  },
  {
   "cell_type": "code",
   "execution_count": 15,
   "id": "7565f531-4aa5-4944-9e5d-7199d491d031",
   "metadata": {},
   "outputs": [
    {
     "name": "stderr",
     "output_type": "stream",
     "text": [
      "INFO:root:정보 메시지 출력\n",
      "WARNING:root:경고 메시지\n"
     ]
    }
   ],
   "source": [
    "# 1. 기본 로깅 설정\n",
    "import logging\n",
    "\n",
    "logging.basicConfig(level=logging.INFO)  # basicConfig 로그레벨 : DEBUG < INTO < WARNING < ERROR < CRITICAL \n",
    "\n",
    "logging.debug(\"이건 디버그 메시지\")   # 출력되지 않음\n",
    "logging.info(\"정보 메시지 출력\")        # 출력됨\n",
    "logging.warning(\"경고 메시지\")         # 출력됨\n"
   ]
  },
  {
   "cell_type": "code",
   "execution_count": 28,
   "id": "672024de-af4d-45a2-8b9a-4ac500178dd5",
   "metadata": {},
   "outputs": [],
   "source": [
    "# 2. 로그를 파일로 저장\n",
    "import logging\n",
    "\n",
    "logging.basicConfig(\n",
    "    filename='app.log',\n",
    "    level=logging.DEBUG,\n",
    "    encoding='utf-8', #한글 깨지지 않도록 명시할 것\n",
    "    format='%(asctime)s - %(levelname)s - %(message)s'\n",
    ")\n",
    "\n",
    "logging.debug(\"디버그 로그 저장\")\n",
    "logging.info(\"정보 로그 저장\")\n",
    "logging.error(\"에러 로그 저장\")\n"
   ]
  },
  {
   "cell_type": "code",
   "execution_count": 27,
   "id": "93706cf5-416d-4133-b95d-5d681a51c44b",
   "metadata": {},
   "outputs": [],
   "source": [
    "# 로그 파일에 저장이 안될때 사용\n",
    "for handler in logging.root.handlers[:]:\n",
    "    logging.root.removeHandler(handler)\n",
    "\n",
    "logging.basicConfig(\n",
    "    filename='app.log',\n",
    "    level=logging.DEBUG,\n",
    "    encoding='utf-8', #한글 깨지지 않도록 명시할 것\n",
    "    format='%(asctime)s - %(levelname)s - %(message)s'\n",
    ")\n",
    "\n",
    "logging.info(\"정보 로그 저장\")"
   ]
  },
  {
   "cell_type": "code",
   "execution_count": 17,
   "id": "9c95b1c1-bd7d-48e8-90c4-a0cedc75315b",
   "metadata": {},
   "outputs": [
    {
     "name": "stderr",
     "output_type": "stream",
     "text": [
      "지정된 파일을 찾을 수 없습니다.\n"
     ]
    }
   ],
   "source": [
    "!type app.log"
   ]
  },
  {
   "cell_type": "code",
   "execution_count": 29,
   "id": "fce5bf69-5c6f-4a8b-b57c-ddc71c33a9a2",
   "metadata": {},
   "outputs": [],
   "source": [
    "# 3. 예외 처리\n",
    "import logging\n",
    "\n",
    "logging.basicConfig(level=logging.INFO)\n",
    "\n",
    "def divide(a, b):\n",
    "    try:\n",
    "        result = a / b\n",
    "        logging.info(f\"{a} / {b} = {result}\")\n",
    "        return result\n",
    "    except ZeroDivisionError:\n",
    "        logging.error(\"0으로 나눌 수 없습니다!\")\n",
    "\n",
    "divide(10, 2)\n",
    "divide(5, 0)\n"
   ]
  },
  {
   "cell_type": "code",
   "execution_count": 19,
   "id": "d73ffbe9-ddef-4a77-928b-5f45f5d81c0b",
   "metadata": {},
   "outputs": [
    {
     "name": "stdout",
     "output_type": "stream",
     "text": [
      "F:\\2025년 콘텐츠개발\\3. 파이썬 활용(15차시)\\활용편 강의자료\\AI 소프트웨어 탐험하기\n"
     ]
    }
   ],
   "source": [
    "import os\n",
    "print(os.getcwd())"
   ]
  },
  {
   "cell_type": "code",
   "execution_count": 30,
   "id": "2795507d-365b-42a1-81f0-c2605197f6a5",
   "metadata": {},
   "outputs": [],
   "source": [
    "meanA, meanB = [0,0],[0,0]\n"
   ]
  },
  {
   "cell_type": "code",
   "execution_count": 31,
   "id": "31c61eb4-aa32-4902-9720-881dad19a71a",
   "metadata": {},
   "outputs": [
    {
     "name": "stdout",
     "output_type": "stream",
     "text": [
      "[0, 0]\n"
     ]
    }
   ],
   "source": [
    "print(meanA)"
   ]
  },
  {
   "cell_type": "code",
   "execution_count": null,
   "id": "7b5de766-5fd5-4224-b11c-6e3f3024e382",
   "metadata": {},
   "outputs": [],
   "source": []
  }
 ],
 "metadata": {
  "kernelspec": {
   "display_name": "Python 3 (ipykernel)",
   "language": "python",
   "name": "python3"
  },
  "language_info": {
   "codemirror_mode": {
    "name": "ipython",
    "version": 3
   },
   "file_extension": ".py",
   "mimetype": "text/x-python",
   "name": "python",
   "nbconvert_exporter": "python",
   "pygments_lexer": "ipython3",
   "version": "3.9.2rc1"
  }
 },
 "nbformat": 4,
 "nbformat_minor": 5
}
